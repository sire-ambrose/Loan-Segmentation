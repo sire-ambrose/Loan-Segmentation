{
 "cells": [
  {
   "cell_type": "markdown",
   "id": "346bf4fb",
   "metadata": {},
   "source": [
    "# Creating A Spark Session"
   ]
  },
  {
   "cell_type": "code",
   "execution_count": 1,
   "id": "6f6def1a",
   "metadata": {},
   "outputs": [],
   "source": [
    "from pyspark.sql import SparkSession\n",
    "import pandas as pd\n",
    "import matplotlib.pyplot as plt\n",
    "import gc"
   ]
  },
  {
   "cell_type": "code",
   "execution_count": 2,
   "id": "f28adec9",
   "metadata": {},
   "outputs": [
    {
     "name": "stderr",
     "output_type": "stream",
     "text": [
      "21/11/28 15:46:58 WARN Utils: Your hostname, amenemope-HP-250-G5-Notebook-PC resolves to a loopback address: 127.0.1.1; using 192.168.43.108 instead (on interface wlp2s0)\n",
      "21/11/28 15:46:58 WARN Utils: Set SPARK_LOCAL_IP if you need to bind to another address\n",
      "Using Spark's default log4j profile: org/apache/spark/log4j-defaults.properties\n",
      "Setting default log level to \"WARN\".\n",
      "To adjust logging level use sc.setLogLevel(newLevel). For SparkR, use setLogLevel(newLevel).\n",
      "21/11/28 15:47:04 WARN NativeCodeLoader: Unable to load native-hadoop library for your platform... using builtin-java classes where applicable\n"
     ]
    }
   ],
   "source": [
    "spark= SparkSession.builder.appName('loan_data').getOrCreate()"
   ]
  },
  {
   "cell_type": "code",
   "execution_count": 3,
   "id": "ddcd4ee5",
   "metadata": {},
   "outputs": [
    {
     "data": {
      "text/html": [
       "\n",
       "            <div>\n",
       "                <p><b>SparkSession - in-memory</b></p>\n",
       "                \n",
       "        <div>\n",
       "            <p><b>SparkContext</b></p>\n",
       "\n",
       "            <p><a href=\"http://192.168.43.108:4040\">Spark UI</a></p>\n",
       "\n",
       "            <dl>\n",
       "              <dt>Version</dt>\n",
       "                <dd><code>v3.2.0</code></dd>\n",
       "              <dt>Master</dt>\n",
       "                <dd><code>local[*]</code></dd>\n",
       "              <dt>AppName</dt>\n",
       "                <dd><code>loan_data</code></dd>\n",
       "            </dl>\n",
       "        </div>\n",
       "        \n",
       "            </div>\n",
       "        "
      ],
      "text/plain": [
       "<pyspark.sql.session.SparkSession at 0x7f05b8f56790>"
      ]
     },
     "execution_count": 3,
     "metadata": {},
     "output_type": "execute_result"
    }
   ],
   "source": [
    "spark"
   ]
  },
  {
   "cell_type": "markdown",
   "id": "26e2c0bf",
   "metadata": {},
   "source": [
    "# Reading The Data"
   ]
  },
  {
   "cell_type": "code",
   "execution_count": 4,
   "id": "9c0b4ae1",
   "metadata": {},
   "outputs": [
    {
     "name": "stderr",
     "output_type": "stream",
     "text": [
      "                                                                                \r"
     ]
    }
   ],
   "source": [
    "sparkData= spark.read.option('header', 'true').csv('loan_data.csv',header=True,inferSchema=True)"
   ]
  },
  {
   "cell_type": "code",
   "execution_count": 5,
   "id": "4be4f855",
   "metadata": {},
   "outputs": [
    {
     "data": {
      "text/plain": [
       "DataFrame[id: int, year: int, issue_d: string, final_d: int, emp_length_int: double, home_ownership: string, home_ownership_cat: int, income_category: string, annual_inc: int, income_cat: int, loan_amount: int, term: string, term_cat: int, application_type: string, application_type_cat: int, purpose: string, purpose_cat: int, interest_payments: string, interest_payment_cat: int, loan_condition: string, loan_condition_cat: int, interest_rate: double, grade: string, grade_cat: int, dti: double, total_pymnt: double, total_rec_prncp: double, recoveries: double, installment: double, region: string]"
      ]
     },
     "execution_count": 5,
     "metadata": {},
     "output_type": "execute_result"
    }
   ],
   "source": [
    "sparkData"
   ]
  },
  {
   "cell_type": "markdown",
   "id": "2de68f70",
   "metadata": {},
   "source": [
    "# Exploratory Data Analysis"
   ]
  },
  {
   "cell_type": "markdown",
   "id": "97c251d0",
   "metadata": {},
   "source": [
    "### check schema of each column"
   ]
  },
  {
   "cell_type": "code",
   "execution_count": 6,
   "id": "7827ead9",
   "metadata": {},
   "outputs": [
    {
     "name": "stdout",
     "output_type": "stream",
     "text": [
      "root\n",
      " |-- id: integer (nullable = true)\n",
      " |-- year: integer (nullable = true)\n",
      " |-- issue_d: string (nullable = true)\n",
      " |-- final_d: integer (nullable = true)\n",
      " |-- emp_length_int: double (nullable = true)\n",
      " |-- home_ownership: string (nullable = true)\n",
      " |-- home_ownership_cat: integer (nullable = true)\n",
      " |-- income_category: string (nullable = true)\n",
      " |-- annual_inc: integer (nullable = true)\n",
      " |-- income_cat: integer (nullable = true)\n",
      " |-- loan_amount: integer (nullable = true)\n",
      " |-- term: string (nullable = true)\n",
      " |-- term_cat: integer (nullable = true)\n",
      " |-- application_type: string (nullable = true)\n",
      " |-- application_type_cat: integer (nullable = true)\n",
      " |-- purpose: string (nullable = true)\n",
      " |-- purpose_cat: integer (nullable = true)\n",
      " |-- interest_payments: string (nullable = true)\n",
      " |-- interest_payment_cat: integer (nullable = true)\n",
      " |-- loan_condition: string (nullable = true)\n",
      " |-- loan_condition_cat: integer (nullable = true)\n",
      " |-- interest_rate: double (nullable = true)\n",
      " |-- grade: string (nullable = true)\n",
      " |-- grade_cat: integer (nullable = true)\n",
      " |-- dti: double (nullable = true)\n",
      " |-- total_pymnt: double (nullable = true)\n",
      " |-- total_rec_prncp: double (nullable = true)\n",
      " |-- recoveries: double (nullable = true)\n",
      " |-- installment: double (nullable = true)\n",
      " |-- region: string (nullable = true)\n",
      "\n"
     ]
    }
   ],
   "source": [
    "sparkData.printSchema()"
   ]
  },
  {
   "cell_type": "code",
   "execution_count": 7,
   "id": "a22b838f",
   "metadata": {},
   "outputs": [
    {
     "name": "stdout",
     "output_type": "stream",
     "text": [
      "there are 30 columns in the data\n"
     ]
    }
   ],
   "source": [
    "print(f'there are {len(sparkData.columns)} columns in the data')"
   ]
  },
  {
   "cell_type": "markdown",
   "id": "f76fe220",
   "metadata": {},
   "source": [
    "## summary of data"
   ]
  },
  {
   "cell_type": "code",
   "execution_count": 8,
   "id": "42b14fb6",
   "metadata": {},
   "outputs": [
    {
     "name": "stderr",
     "output_type": "stream",
     "text": [
      "21/11/25 21:24:31 WARN package: Truncated the string representation of a plan since it was too large. This behavior can be adjusted by setting 'spark.sql.debug.maxToStringFields'.\n"
     ]
    },
    {
     "data": {
      "text/html": [
       "<div>\n",
       "<style scoped>\n",
       "    .dataframe tbody tr th:only-of-type {\n",
       "        vertical-align: middle;\n",
       "    }\n",
       "\n",
       "    .dataframe tbody tr th {\n",
       "        vertical-align: top;\n",
       "    }\n",
       "\n",
       "    .dataframe thead th {\n",
       "        text-align: right;\n",
       "    }\n",
       "</style>\n",
       "<table border=\"1\" class=\"dataframe\">\n",
       "  <thead>\n",
       "    <tr style=\"text-align: right;\">\n",
       "      <th></th>\n",
       "      <th>summary</th>\n",
       "      <th>id</th>\n",
       "      <th>year</th>\n",
       "      <th>issue_d</th>\n",
       "      <th>final_d</th>\n",
       "      <th>emp_length_int</th>\n",
       "      <th>home_ownership</th>\n",
       "      <th>home_ownership_cat</th>\n",
       "      <th>income_category</th>\n",
       "      <th>annual_inc</th>\n",
       "      <th>...</th>\n",
       "      <th>loan_condition_cat</th>\n",
       "      <th>interest_rate</th>\n",
       "      <th>grade</th>\n",
       "      <th>grade_cat</th>\n",
       "      <th>dti</th>\n",
       "      <th>total_pymnt</th>\n",
       "      <th>total_rec_prncp</th>\n",
       "      <th>recoveries</th>\n",
       "      <th>installment</th>\n",
       "      <th>region</th>\n",
       "    </tr>\n",
       "  </thead>\n",
       "  <tbody>\n",
       "    <tr>\n",
       "      <th>0</th>\n",
       "      <td>count</td>\n",
       "      <td>3387379</td>\n",
       "      <td>3387379</td>\n",
       "      <td>3387379</td>\n",
       "      <td>3387379</td>\n",
       "      <td>3387379</td>\n",
       "      <td>3387379</td>\n",
       "      <td>3387379</td>\n",
       "      <td>3387379</td>\n",
       "      <td>3387379</td>\n",
       "      <td>...</td>\n",
       "      <td>3387379</td>\n",
       "      <td>3387379</td>\n",
       "      <td>3387379</td>\n",
       "      <td>3387379</td>\n",
       "      <td>3387379</td>\n",
       "      <td>3387379</td>\n",
       "      <td>3387379</td>\n",
       "      <td>3387379</td>\n",
       "      <td>3387379</td>\n",
       "      <td>3387379</td>\n",
       "    </tr>\n",
       "    <tr>\n",
       "      <th>1</th>\n",
       "      <td>mean</td>\n",
       "      <td>8762594.174506307</td>\n",
       "      <td>2010.1679251126018</td>\n",
       "      <td>None</td>\n",
       "      <td>1060524.2190814787</td>\n",
       "      <td>5.293106336709553</td>\n",
       "      <td>None</td>\n",
       "      <td>2.176661660829804</td>\n",
       "      <td>None</td>\n",
       "      <td>70650.9346161147</td>\n",
       "      <td>...</td>\n",
       "      <td>0.3788690311890107</td>\n",
       "      <td>13.283059160583115</td>\n",
       "      <td>None</td>\n",
       "      <td>3.6884830424939166</td>\n",
       "      <td>15.191611628469696</td>\n",
       "      <td>11015.24379417175</td>\n",
       "      <td>8721.105830526885</td>\n",
       "      <td>1209.328651923013</td>\n",
       "      <td>381.9545994323065</td>\n",
       "      <td>None</td>\n",
       "    </tr>\n",
       "    <tr>\n",
       "      <th>2</th>\n",
       "      <td>stddev</td>\n",
       "      <td>1.8328366136619914E7</td>\n",
       "      <td>2.470244249668531</td>\n",
       "      <td>None</td>\n",
       "      <td>38256.85618165062</td>\n",
       "      <td>3.546021492706171</td>\n",
       "      <td>None</td>\n",
       "      <td>0.9730323337491164</td>\n",
       "      <td>None</td>\n",
       "      <td>57869.52130436754</td>\n",
       "      <td>...</td>\n",
       "      <td>0.4851055120968272</td>\n",
       "      <td>3.557012351788819</td>\n",
       "      <td>None</td>\n",
       "      <td>1.8727577461600664</td>\n",
       "      <td>10.788933311941042</td>\n",
       "      <td>7713.8712688621135</td>\n",
       "      <td>6429.248612460843</td>\n",
       "      <td>2585.602588556803</td>\n",
       "      <td>212.96420493218605</td>\n",
       "      <td>None</td>\n",
       "    </tr>\n",
       "    <tr>\n",
       "      <th>3</th>\n",
       "      <td>min</td>\n",
       "      <td>54734</td>\n",
       "      <td>2007</td>\n",
       "      <td>01/01/2008</td>\n",
       "      <td>1012008</td>\n",
       "      <td>-1.5949915008595716</td>\n",
       "      <td>ANY</td>\n",
       "      <td>1</td>\n",
       "      <td>High</td>\n",
       "      <td>0</td>\n",
       "      <td>...</td>\n",
       "      <td>0</td>\n",
       "      <td>5.318858162252189</td>\n",
       "      <td>A</td>\n",
       "      <td>1</td>\n",
       "      <td>-7.950813226178009</td>\n",
       "      <td>-5302.105831571138</td>\n",
       "      <td>-7805.787931009369</td>\n",
       "      <td>-7951.9923504284025</td>\n",
       "      <td>-264.97064527010417</td>\n",
       "      <td>Northern-Irl</td>\n",
       "    </tr>\n",
       "    <tr>\n",
       "      <th>4</th>\n",
       "      <td>max</td>\n",
       "      <td>68617057</td>\n",
       "      <td>2015</td>\n",
       "      <td>01/12/2015</td>\n",
       "      <td>1122015</td>\n",
       "      <td>13.56897787805175</td>\n",
       "      <td>RENT</td>\n",
       "      <td>6</td>\n",
       "      <td>Medium</td>\n",
       "      <td>9500000</td>\n",
       "      <td>...</td>\n",
       "      <td>1</td>\n",
       "      <td>28.99</td>\n",
       "      <td>G</td>\n",
       "      <td>7</td>\n",
       "      <td>9999.0</td>\n",
       "      <td>57777.57987</td>\n",
       "      <td>35000.03</td>\n",
       "      <td>33520.27</td>\n",
       "      <td>1445.46</td>\n",
       "      <td>ulster</td>\n",
       "    </tr>\n",
       "  </tbody>\n",
       "</table>\n",
       "<p>5 rows × 31 columns</p>\n",
       "</div>"
      ],
      "text/plain": [
       "  summary                    id                year     issue_d  \\\n",
       "0   count               3387379             3387379     3387379   \n",
       "1    mean     8762594.174506307  2010.1679251126018        None   \n",
       "2  stddev  1.8328366136619914E7   2.470244249668531        None   \n",
       "3     min                 54734                2007  01/01/2008   \n",
       "4     max              68617057                2015  01/12/2015   \n",
       "\n",
       "              final_d       emp_length_int home_ownership  home_ownership_cat  \\\n",
       "0             3387379              3387379        3387379             3387379   \n",
       "1  1060524.2190814787    5.293106336709553           None   2.176661660829804   \n",
       "2   38256.85618165062    3.546021492706171           None  0.9730323337491164   \n",
       "3             1012008  -1.5949915008595716            ANY                   1   \n",
       "4             1122015    13.56897787805175           RENT                   6   \n",
       "\n",
       "  income_category         annual_inc  ...  loan_condition_cat  \\\n",
       "0         3387379            3387379  ...             3387379   \n",
       "1            None   70650.9346161147  ...  0.3788690311890107   \n",
       "2            None  57869.52130436754  ...  0.4851055120968272   \n",
       "3            High                  0  ...                   0   \n",
       "4          Medium            9500000  ...                   1   \n",
       "\n",
       "        interest_rate    grade           grade_cat                 dti  \\\n",
       "0             3387379  3387379             3387379             3387379   \n",
       "1  13.283059160583115     None  3.6884830424939166  15.191611628469696   \n",
       "2   3.557012351788819     None  1.8727577461600664  10.788933311941042   \n",
       "3   5.318858162252189        A                   1  -7.950813226178009   \n",
       "4               28.99        G                   7              9999.0   \n",
       "\n",
       "          total_pymnt     total_rec_prncp           recoveries  \\\n",
       "0             3387379             3387379              3387379   \n",
       "1   11015.24379417175   8721.105830526885    1209.328651923013   \n",
       "2  7713.8712688621135   6429.248612460843    2585.602588556803   \n",
       "3  -5302.105831571138  -7805.787931009369  -7951.9923504284025   \n",
       "4         57777.57987            35000.03             33520.27   \n",
       "\n",
       "           installment        region  \n",
       "0              3387379       3387379  \n",
       "1    381.9545994323065          None  \n",
       "2   212.96420493218605          None  \n",
       "3  -264.97064527010417  Northern-Irl  \n",
       "4              1445.46        ulster  \n",
       "\n",
       "[5 rows x 31 columns]"
      ]
     },
     "execution_count": 8,
     "metadata": {},
     "output_type": "execute_result"
    }
   ],
   "source": [
    "sparkData.describe().toPandas()"
   ]
  },
  {
   "cell_type": "code",
   "execution_count": null,
   "id": "dcbd4310",
   "metadata": {},
   "outputs": [],
   "source": []
  },
  {
   "cell_type": "code",
   "execution_count": 15,
   "id": "966e9854",
   "metadata": {},
   "outputs": [
    {
     "name": "stderr",
     "output_type": "stream",
     "text": [
      "[Stage 12:>                                                         (0 + 2) / 2]\r"
     ]
    },
    {
     "name": "stdout",
     "output_type": "stream",
     "text": [
      "There are 887379 customers\n"
     ]
    },
    {
     "name": "stderr",
     "output_type": "stream",
     "text": [
      "\r",
      "                                                                                \r"
     ]
    }
   ],
   "source": [
    "customers=sparkData.select(['id']).distinct().count()\n",
    "print(f'There are {customers} customers')"
   ]
  },
  {
   "cell_type": "markdown",
   "id": "ab21ca27",
   "metadata": {},
   "source": [
    "# Data PreProcessing"
   ]
  },
  {
   "cell_type": "code",
   "execution_count": null,
   "id": "0044e941",
   "metadata": {},
   "outputs": [],
   "source": []
  },
  {
   "cell_type": "markdown",
   "id": "5616c89c",
   "metadata": {},
   "source": [
    "the strings; 'home_ownership','term', 'income_category', 'application_type', 'purpose', 'interest_payments', 'loan_condition', 'grade, columns have their ordinal encoded form tagged with _cat i.e home_ownership_cat, term_cat, etc"
   ]
  },
  {
   "cell_type": "code",
   "execution_count": 7,
   "id": "f6e1dae9",
   "metadata": {},
   "outputs": [],
   "source": [
    "### dropping strings and id columns"
   ]
  },
  {
   "cell_type": "code",
   "execution_count": 5,
   "id": "773abb81",
   "metadata": {},
   "outputs": [],
   "source": [
    "dropString=sparkData.drop('id','home_ownership','term', 'income_category', 'application_type', 'purpose', 'interest_payments', 'loan_condition', 'grade')"
   ]
  },
  {
   "cell_type": "code",
   "execution_count": 6,
   "id": "2a7b4ab3",
   "metadata": {},
   "outputs": [
    {
     "name": "stderr",
     "output_type": "stream",
     "text": [
      "\r",
      "[Stage 2:>                                                          (0 + 1) / 1]\r",
      "\r",
      "                                                                                \r"
     ]
    },
    {
     "data": {
      "text/html": [
       "<div>\n",
       "<style scoped>\n",
       "    .dataframe tbody tr th:only-of-type {\n",
       "        vertical-align: middle;\n",
       "    }\n",
       "\n",
       "    .dataframe tbody tr th {\n",
       "        vertical-align: top;\n",
       "    }\n",
       "\n",
       "    .dataframe thead th {\n",
       "        text-align: right;\n",
       "    }\n",
       "</style>\n",
       "<table border=\"1\" class=\"dataframe\">\n",
       "  <thead>\n",
       "    <tr style=\"text-align: right;\">\n",
       "      <th></th>\n",
       "      <th>year</th>\n",
       "      <th>issue_d</th>\n",
       "      <th>final_d</th>\n",
       "      <th>emp_length_int</th>\n",
       "      <th>home_ownership_cat</th>\n",
       "      <th>annual_inc</th>\n",
       "      <th>income_cat</th>\n",
       "      <th>loan_amount</th>\n",
       "      <th>term_cat</th>\n",
       "      <th>application_type_cat</th>\n",
       "      <th>...</th>\n",
       "      <th>interest_payment_cat</th>\n",
       "      <th>loan_condition_cat</th>\n",
       "      <th>interest_rate</th>\n",
       "      <th>grade_cat</th>\n",
       "      <th>dti</th>\n",
       "      <th>total_pymnt</th>\n",
       "      <th>total_rec_prncp</th>\n",
       "      <th>recoveries</th>\n",
       "      <th>installment</th>\n",
       "      <th>region</th>\n",
       "    </tr>\n",
       "  </thead>\n",
       "  <tbody>\n",
       "    <tr>\n",
       "      <th>0</th>\n",
       "      <td>2011</td>\n",
       "      <td>01/12/2011</td>\n",
       "      <td>1012015</td>\n",
       "      <td>10.0</td>\n",
       "      <td>1</td>\n",
       "      <td>24000</td>\n",
       "      <td>1</td>\n",
       "      <td>5000</td>\n",
       "      <td>1</td>\n",
       "      <td>1</td>\n",
       "      <td>...</td>\n",
       "      <td>1</td>\n",
       "      <td>0</td>\n",
       "      <td>10.65</td>\n",
       "      <td>2</td>\n",
       "      <td>27.65</td>\n",
       "      <td>5861.071414</td>\n",
       "      <td>5000.00</td>\n",
       "      <td>0.00</td>\n",
       "      <td>162.87</td>\n",
       "      <td>munster</td>\n",
       "    </tr>\n",
       "    <tr>\n",
       "      <th>1</th>\n",
       "      <td>2011</td>\n",
       "      <td>01/12/2011</td>\n",
       "      <td>1042013</td>\n",
       "      <td>0.5</td>\n",
       "      <td>1</td>\n",
       "      <td>30000</td>\n",
       "      <td>1</td>\n",
       "      <td>2500</td>\n",
       "      <td>2</td>\n",
       "      <td>1</td>\n",
       "      <td>...</td>\n",
       "      <td>2</td>\n",
       "      <td>1</td>\n",
       "      <td>15.27</td>\n",
       "      <td>3</td>\n",
       "      <td>1.00</td>\n",
       "      <td>1008.710000</td>\n",
       "      <td>456.46</td>\n",
       "      <td>117.08</td>\n",
       "      <td>59.83</td>\n",
       "      <td>leinster</td>\n",
       "    </tr>\n",
       "    <tr>\n",
       "      <th>2</th>\n",
       "      <td>2011</td>\n",
       "      <td>01/12/2011</td>\n",
       "      <td>1062014</td>\n",
       "      <td>10.0</td>\n",
       "      <td>1</td>\n",
       "      <td>12252</td>\n",
       "      <td>1</td>\n",
       "      <td>2400</td>\n",
       "      <td>1</td>\n",
       "      <td>1</td>\n",
       "      <td>...</td>\n",
       "      <td>2</td>\n",
       "      <td>0</td>\n",
       "      <td>15.96</td>\n",
       "      <td>3</td>\n",
       "      <td>8.72</td>\n",
       "      <td>3003.653644</td>\n",
       "      <td>2400.00</td>\n",
       "      <td>0.00</td>\n",
       "      <td>84.33</td>\n",
       "      <td>cannught</td>\n",
       "    </tr>\n",
       "    <tr>\n",
       "      <th>3</th>\n",
       "      <td>2011</td>\n",
       "      <td>01/12/2011</td>\n",
       "      <td>1012015</td>\n",
       "      <td>10.0</td>\n",
       "      <td>1</td>\n",
       "      <td>49200</td>\n",
       "      <td>1</td>\n",
       "      <td>10000</td>\n",
       "      <td>1</td>\n",
       "      <td>1</td>\n",
       "      <td>...</td>\n",
       "      <td>2</td>\n",
       "      <td>0</td>\n",
       "      <td>13.49</td>\n",
       "      <td>3</td>\n",
       "      <td>20.00</td>\n",
       "      <td>12226.302210</td>\n",
       "      <td>10000.00</td>\n",
       "      <td>0.00</td>\n",
       "      <td>339.31</td>\n",
       "      <td>ulster</td>\n",
       "    </tr>\n",
       "    <tr>\n",
       "      <th>4</th>\n",
       "      <td>2011</td>\n",
       "      <td>01/12/2011</td>\n",
       "      <td>1012016</td>\n",
       "      <td>1.0</td>\n",
       "      <td>1</td>\n",
       "      <td>80000</td>\n",
       "      <td>1</td>\n",
       "      <td>3000</td>\n",
       "      <td>2</td>\n",
       "      <td>1</td>\n",
       "      <td>...</td>\n",
       "      <td>1</td>\n",
       "      <td>0</td>\n",
       "      <td>12.69</td>\n",
       "      <td>2</td>\n",
       "      <td>17.94</td>\n",
       "      <td>3242.170000</td>\n",
       "      <td>2233.10</td>\n",
       "      <td>0.00</td>\n",
       "      <td>67.79</td>\n",
       "      <td>ulster</td>\n",
       "    </tr>\n",
       "  </tbody>\n",
       "</table>\n",
       "<p>5 rows × 21 columns</p>\n",
       "</div>"
      ],
      "text/plain": [
       "   year     issue_d  final_d  emp_length_int  home_ownership_cat  annual_inc  \\\n",
       "0  2011  01/12/2011  1012015            10.0                   1       24000   \n",
       "1  2011  01/12/2011  1042013             0.5                   1       30000   \n",
       "2  2011  01/12/2011  1062014            10.0                   1       12252   \n",
       "3  2011  01/12/2011  1012015            10.0                   1       49200   \n",
       "4  2011  01/12/2011  1012016             1.0                   1       80000   \n",
       "\n",
       "   income_cat  loan_amount  term_cat  application_type_cat  ...  \\\n",
       "0           1         5000         1                     1  ...   \n",
       "1           1         2500         2                     1  ...   \n",
       "2           1         2400         1                     1  ...   \n",
       "3           1        10000         1                     1  ...   \n",
       "4           1         3000         2                     1  ...   \n",
       "\n",
       "   interest_payment_cat  loan_condition_cat  interest_rate  grade_cat    dti  \\\n",
       "0                     1                   0          10.65          2  27.65   \n",
       "1                     2                   1          15.27          3   1.00   \n",
       "2                     2                   0          15.96          3   8.72   \n",
       "3                     2                   0          13.49          3  20.00   \n",
       "4                     1                   0          12.69          2  17.94   \n",
       "\n",
       "    total_pymnt  total_rec_prncp  recoveries  installment    region  \n",
       "0   5861.071414          5000.00        0.00       162.87   munster  \n",
       "1   1008.710000           456.46      117.08        59.83  leinster  \n",
       "2   3003.653644          2400.00        0.00        84.33  cannught  \n",
       "3  12226.302210         10000.00        0.00       339.31    ulster  \n",
       "4   3242.170000          2233.10        0.00        67.79    ulster  \n",
       "\n",
       "[5 rows x 21 columns]"
      ]
     },
     "execution_count": 6,
     "metadata": {},
     "output_type": "execute_result"
    }
   ],
   "source": [
    "dropString.limit(5).toPandas()"
   ]
  },
  {
   "cell_type": "markdown",
   "id": "dbe8c159",
   "metadata": {},
   "source": [
    "#### the year column and the issue_d column speaks of the same year the loan was applied, the issue_d column is dropped"
   ]
  },
  {
   "cell_type": "code",
   "execution_count": 7,
   "id": "3ba53373",
   "metadata": {},
   "outputs": [],
   "source": [
    "dropIssue=dropString.drop('issue_d')"
   ]
  },
  {
   "cell_type": "code",
   "execution_count": 8,
   "id": "0fa08e4a",
   "metadata": {},
   "outputs": [
    {
     "data": {
      "text/plain": [
       "18"
      ]
     },
     "execution_count": 8,
     "metadata": {},
     "output_type": "execute_result"
    }
   ],
   "source": [
    "del(dropString)\n",
    "gc.collect()"
   ]
  },
  {
   "cell_type": "code",
   "execution_count": 9,
   "id": "5e795cc9",
   "metadata": {},
   "outputs": [
    {
     "data": {
      "text/html": [
       "<div>\n",
       "<style scoped>\n",
       "    .dataframe tbody tr th:only-of-type {\n",
       "        vertical-align: middle;\n",
       "    }\n",
       "\n",
       "    .dataframe tbody tr th {\n",
       "        vertical-align: top;\n",
       "    }\n",
       "\n",
       "    .dataframe thead th {\n",
       "        text-align: right;\n",
       "    }\n",
       "</style>\n",
       "<table border=\"1\" class=\"dataframe\">\n",
       "  <thead>\n",
       "    <tr style=\"text-align: right;\">\n",
       "      <th></th>\n",
       "      <th>year</th>\n",
       "      <th>final_d</th>\n",
       "      <th>emp_length_int</th>\n",
       "      <th>home_ownership_cat</th>\n",
       "      <th>annual_inc</th>\n",
       "      <th>income_cat</th>\n",
       "      <th>loan_amount</th>\n",
       "      <th>term_cat</th>\n",
       "      <th>application_type_cat</th>\n",
       "      <th>purpose_cat</th>\n",
       "      <th>interest_payment_cat</th>\n",
       "      <th>loan_condition_cat</th>\n",
       "      <th>interest_rate</th>\n",
       "      <th>grade_cat</th>\n",
       "      <th>dti</th>\n",
       "      <th>total_pymnt</th>\n",
       "      <th>total_rec_prncp</th>\n",
       "      <th>recoveries</th>\n",
       "      <th>installment</th>\n",
       "      <th>region</th>\n",
       "    </tr>\n",
       "  </thead>\n",
       "  <tbody>\n",
       "    <tr>\n",
       "      <th>0</th>\n",
       "      <td>2011</td>\n",
       "      <td>1012015</td>\n",
       "      <td>10.0</td>\n",
       "      <td>1</td>\n",
       "      <td>24000</td>\n",
       "      <td>1</td>\n",
       "      <td>5000</td>\n",
       "      <td>1</td>\n",
       "      <td>1</td>\n",
       "      <td>1</td>\n",
       "      <td>1</td>\n",
       "      <td>0</td>\n",
       "      <td>10.65</td>\n",
       "      <td>2</td>\n",
       "      <td>27.65</td>\n",
       "      <td>5861.071414</td>\n",
       "      <td>5000.00</td>\n",
       "      <td>0.00</td>\n",
       "      <td>162.87</td>\n",
       "      <td>munster</td>\n",
       "    </tr>\n",
       "    <tr>\n",
       "      <th>1</th>\n",
       "      <td>2011</td>\n",
       "      <td>1042013</td>\n",
       "      <td>0.5</td>\n",
       "      <td>1</td>\n",
       "      <td>30000</td>\n",
       "      <td>1</td>\n",
       "      <td>2500</td>\n",
       "      <td>2</td>\n",
       "      <td>1</td>\n",
       "      <td>2</td>\n",
       "      <td>2</td>\n",
       "      <td>1</td>\n",
       "      <td>15.27</td>\n",
       "      <td>3</td>\n",
       "      <td>1.00</td>\n",
       "      <td>1008.710000</td>\n",
       "      <td>456.46</td>\n",
       "      <td>117.08</td>\n",
       "      <td>59.83</td>\n",
       "      <td>leinster</td>\n",
       "    </tr>\n",
       "    <tr>\n",
       "      <th>2</th>\n",
       "      <td>2011</td>\n",
       "      <td>1062014</td>\n",
       "      <td>10.0</td>\n",
       "      <td>1</td>\n",
       "      <td>12252</td>\n",
       "      <td>1</td>\n",
       "      <td>2400</td>\n",
       "      <td>1</td>\n",
       "      <td>1</td>\n",
       "      <td>3</td>\n",
       "      <td>2</td>\n",
       "      <td>0</td>\n",
       "      <td>15.96</td>\n",
       "      <td>3</td>\n",
       "      <td>8.72</td>\n",
       "      <td>3003.653644</td>\n",
       "      <td>2400.00</td>\n",
       "      <td>0.00</td>\n",
       "      <td>84.33</td>\n",
       "      <td>cannught</td>\n",
       "    </tr>\n",
       "    <tr>\n",
       "      <th>3</th>\n",
       "      <td>2011</td>\n",
       "      <td>1012015</td>\n",
       "      <td>10.0</td>\n",
       "      <td>1</td>\n",
       "      <td>49200</td>\n",
       "      <td>1</td>\n",
       "      <td>10000</td>\n",
       "      <td>1</td>\n",
       "      <td>1</td>\n",
       "      <td>4</td>\n",
       "      <td>2</td>\n",
       "      <td>0</td>\n",
       "      <td>13.49</td>\n",
       "      <td>3</td>\n",
       "      <td>20.00</td>\n",
       "      <td>12226.302210</td>\n",
       "      <td>10000.00</td>\n",
       "      <td>0.00</td>\n",
       "      <td>339.31</td>\n",
       "      <td>ulster</td>\n",
       "    </tr>\n",
       "    <tr>\n",
       "      <th>4</th>\n",
       "      <td>2011</td>\n",
       "      <td>1012016</td>\n",
       "      <td>1.0</td>\n",
       "      <td>1</td>\n",
       "      <td>80000</td>\n",
       "      <td>1</td>\n",
       "      <td>3000</td>\n",
       "      <td>2</td>\n",
       "      <td>1</td>\n",
       "      <td>4</td>\n",
       "      <td>1</td>\n",
       "      <td>0</td>\n",
       "      <td>12.69</td>\n",
       "      <td>2</td>\n",
       "      <td>17.94</td>\n",
       "      <td>3242.170000</td>\n",
       "      <td>2233.10</td>\n",
       "      <td>0.00</td>\n",
       "      <td>67.79</td>\n",
       "      <td>ulster</td>\n",
       "    </tr>\n",
       "  </tbody>\n",
       "</table>\n",
       "</div>"
      ],
      "text/plain": [
       "   year  final_d  emp_length_int  home_ownership_cat  annual_inc  income_cat  \\\n",
       "0  2011  1012015            10.0                   1       24000           1   \n",
       "1  2011  1042013             0.5                   1       30000           1   \n",
       "2  2011  1062014            10.0                   1       12252           1   \n",
       "3  2011  1012015            10.0                   1       49200           1   \n",
       "4  2011  1012016             1.0                   1       80000           1   \n",
       "\n",
       "   loan_amount  term_cat  application_type_cat  purpose_cat  \\\n",
       "0         5000         1                     1            1   \n",
       "1         2500         2                     1            2   \n",
       "2         2400         1                     1            3   \n",
       "3        10000         1                     1            4   \n",
       "4         3000         2                     1            4   \n",
       "\n",
       "   interest_payment_cat  loan_condition_cat  interest_rate  grade_cat    dti  \\\n",
       "0                     1                   0          10.65          2  27.65   \n",
       "1                     2                   1          15.27          3   1.00   \n",
       "2                     2                   0          15.96          3   8.72   \n",
       "3                     2                   0          13.49          3  20.00   \n",
       "4                     1                   0          12.69          2  17.94   \n",
       "\n",
       "    total_pymnt  total_rec_prncp  recoveries  installment    region  \n",
       "0   5861.071414          5000.00        0.00       162.87   munster  \n",
       "1   1008.710000           456.46      117.08        59.83  leinster  \n",
       "2   3003.653644          2400.00        0.00        84.33  cannught  \n",
       "3  12226.302210         10000.00        0.00       339.31    ulster  \n",
       "4   3242.170000          2233.10        0.00        67.79    ulster  "
      ]
     },
     "execution_count": 9,
     "metadata": {},
     "output_type": "execute_result"
    }
   ],
   "source": [
    "dropIssue.limit(5).toPandas()"
   ]
  },
  {
   "cell_type": "code",
   "execution_count": null,
   "id": "9369282a",
   "metadata": {},
   "outputs": [],
   "source": []
  },
  {
   "cell_type": "code",
   "execution_count": null,
   "id": "953fd9e0",
   "metadata": {},
   "outputs": [],
   "source": []
  },
  {
   "cell_type": "code",
   "execution_count": 10,
   "id": "e57e6a79",
   "metadata": {},
   "outputs": [],
   "source": [
    "### extracting the year of final_d"
   ]
  },
  {
   "cell_type": "code",
   "execution_count": 11,
   "id": "c1de13b5",
   "metadata": {},
   "outputs": [],
   "source": [
    "from pyspark.sql.functions import col, udf\n",
    "function =  udf (lambda x: str(x)[-4:])\n",
    "\n",
    "dropIssue = dropIssue.withColumn('final_date', function(col('final_d')))\n",
    "final_date=dropIssue.drop('final_d')\n"
   ]
  },
  {
   "cell_type": "code",
   "execution_count": 12,
   "id": "4439b23d",
   "metadata": {},
   "outputs": [
    {
     "name": "stdout",
     "output_type": "stream",
     "text": [
      "root\n",
      " |-- year: integer (nullable = true)\n",
      " |-- emp_length_int: double (nullable = true)\n",
      " |-- home_ownership_cat: integer (nullable = true)\n",
      " |-- annual_inc: integer (nullable = true)\n",
      " |-- income_cat: integer (nullable = true)\n",
      " |-- loan_amount: integer (nullable = true)\n",
      " |-- term_cat: integer (nullable = true)\n",
      " |-- application_type_cat: integer (nullable = true)\n",
      " |-- purpose_cat: integer (nullable = true)\n",
      " |-- interest_payment_cat: integer (nullable = true)\n",
      " |-- loan_condition_cat: integer (nullable = true)\n",
      " |-- interest_rate: double (nullable = true)\n",
      " |-- grade_cat: integer (nullable = true)\n",
      " |-- dti: double (nullable = true)\n",
      " |-- total_pymnt: double (nullable = true)\n",
      " |-- total_rec_prncp: double (nullable = true)\n",
      " |-- recoveries: double (nullable = true)\n",
      " |-- installment: double (nullable = true)\n",
      " |-- region: string (nullable = true)\n",
      " |-- final_date: string (nullable = true)\n",
      "\n"
     ]
    }
   ],
   "source": [
    "final_date.printSchema()"
   ]
  },
  {
   "cell_type": "code",
   "execution_count": 13,
   "id": "c343051b",
   "metadata": {},
   "outputs": [
    {
     "data": {
      "text/plain": [
       "23"
      ]
     },
     "execution_count": 13,
     "metadata": {},
     "output_type": "execute_result"
    }
   ],
   "source": [
    "del(dropIssue)\n",
    "gc.collect()"
   ]
  },
  {
   "cell_type": "code",
   "execution_count": 14,
   "id": "651a4c6a",
   "metadata": {},
   "outputs": [],
   "source": [
    "\n",
    "### converting final_date to integer"
   ]
  },
  {
   "cell_type": "code",
   "execution_count": 15,
   "id": "c9e05c17",
   "metadata": {},
   "outputs": [
    {
     "name": "stdout",
     "output_type": "stream",
     "text": [
      "root\n",
      " |-- year: integer (nullable = true)\n",
      " |-- emp_length_int: double (nullable = true)\n",
      " |-- home_ownership_cat: integer (nullable = true)\n",
      " |-- annual_inc: integer (nullable = true)\n",
      " |-- income_cat: integer (nullable = true)\n",
      " |-- loan_amount: integer (nullable = true)\n",
      " |-- term_cat: integer (nullable = true)\n",
      " |-- application_type_cat: integer (nullable = true)\n",
      " |-- purpose_cat: integer (nullable = true)\n",
      " |-- interest_payment_cat: integer (nullable = true)\n",
      " |-- loan_condition_cat: integer (nullable = true)\n",
      " |-- interest_rate: double (nullable = true)\n",
      " |-- grade_cat: integer (nullable = true)\n",
      " |-- dti: double (nullable = true)\n",
      " |-- total_pymnt: double (nullable = true)\n",
      " |-- total_rec_prncp: double (nullable = true)\n",
      " |-- recoveries: double (nullable = true)\n",
      " |-- installment: double (nullable = true)\n",
      " |-- region: string (nullable = true)\n",
      " |-- final_date: integer (nullable = true)\n",
      "\n"
     ]
    }
   ],
   "source": [
    "final_date_int=final_date.withColumn(\"final_date\",final_date[\"final_date\"].cast(\"Integer\"))\n",
    "final_date_int.printSchema()"
   ]
  },
  {
   "cell_type": "code",
   "execution_count": 16,
   "id": "edd4d79b",
   "metadata": {},
   "outputs": [
    {
     "data": {
      "text/plain": [
       "32"
      ]
     },
     "execution_count": 16,
     "metadata": {},
     "output_type": "execute_result"
    }
   ],
   "source": [
    "del(final_date)\n",
    "gc.collect()"
   ]
  },
  {
   "cell_type": "code",
   "execution_count": 17,
   "id": "0fbf3f6a",
   "metadata": {},
   "outputs": [
    {
     "name": "stderr",
     "output_type": "stream",
     "text": [
      "                                                                                \r"
     ]
    },
    {
     "data": {
      "text/html": [
       "<div>\n",
       "<style scoped>\n",
       "    .dataframe tbody tr th:only-of-type {\n",
       "        vertical-align: middle;\n",
       "    }\n",
       "\n",
       "    .dataframe tbody tr th {\n",
       "        vertical-align: top;\n",
       "    }\n",
       "\n",
       "    .dataframe thead th {\n",
       "        text-align: right;\n",
       "    }\n",
       "</style>\n",
       "<table border=\"1\" class=\"dataframe\">\n",
       "  <thead>\n",
       "    <tr style=\"text-align: right;\">\n",
       "      <th></th>\n",
       "      <th>year</th>\n",
       "      <th>emp_length_int</th>\n",
       "      <th>home_ownership_cat</th>\n",
       "      <th>annual_inc</th>\n",
       "      <th>income_cat</th>\n",
       "      <th>loan_amount</th>\n",
       "      <th>term_cat</th>\n",
       "      <th>application_type_cat</th>\n",
       "      <th>purpose_cat</th>\n",
       "      <th>interest_payment_cat</th>\n",
       "      <th>loan_condition_cat</th>\n",
       "      <th>interest_rate</th>\n",
       "      <th>grade_cat</th>\n",
       "      <th>dti</th>\n",
       "      <th>total_pymnt</th>\n",
       "      <th>total_rec_prncp</th>\n",
       "      <th>recoveries</th>\n",
       "      <th>installment</th>\n",
       "      <th>final_date</th>\n",
       "      <th>region_cat</th>\n",
       "    </tr>\n",
       "  </thead>\n",
       "  <tbody>\n",
       "    <tr>\n",
       "      <th>0</th>\n",
       "      <td>2011</td>\n",
       "      <td>10.0</td>\n",
       "      <td>1</td>\n",
       "      <td>24000</td>\n",
       "      <td>1</td>\n",
       "      <td>5000</td>\n",
       "      <td>1</td>\n",
       "      <td>1</td>\n",
       "      <td>1</td>\n",
       "      <td>1</td>\n",
       "      <td>0</td>\n",
       "      <td>10.65</td>\n",
       "      <td>2</td>\n",
       "      <td>27.65</td>\n",
       "      <td>5861.071414</td>\n",
       "      <td>5000.00</td>\n",
       "      <td>0.00</td>\n",
       "      <td>162.87</td>\n",
       "      <td>2015</td>\n",
       "      <td>4.0</td>\n",
       "    </tr>\n",
       "    <tr>\n",
       "      <th>1</th>\n",
       "      <td>2011</td>\n",
       "      <td>0.5</td>\n",
       "      <td>1</td>\n",
       "      <td>30000</td>\n",
       "      <td>1</td>\n",
       "      <td>2500</td>\n",
       "      <td>2</td>\n",
       "      <td>1</td>\n",
       "      <td>2</td>\n",
       "      <td>2</td>\n",
       "      <td>1</td>\n",
       "      <td>15.27</td>\n",
       "      <td>3</td>\n",
       "      <td>1.00</td>\n",
       "      <td>1008.710000</td>\n",
       "      <td>456.46</td>\n",
       "      <td>117.08</td>\n",
       "      <td>59.83</td>\n",
       "      <td>2013</td>\n",
       "      <td>1.0</td>\n",
       "    </tr>\n",
       "    <tr>\n",
       "      <th>2</th>\n",
       "      <td>2011</td>\n",
       "      <td>10.0</td>\n",
       "      <td>1</td>\n",
       "      <td>12252</td>\n",
       "      <td>1</td>\n",
       "      <td>2400</td>\n",
       "      <td>1</td>\n",
       "      <td>1</td>\n",
       "      <td>3</td>\n",
       "      <td>2</td>\n",
       "      <td>0</td>\n",
       "      <td>15.96</td>\n",
       "      <td>3</td>\n",
       "      <td>8.72</td>\n",
       "      <td>3003.653644</td>\n",
       "      <td>2400.00</td>\n",
       "      <td>0.00</td>\n",
       "      <td>84.33</td>\n",
       "      <td>2014</td>\n",
       "      <td>3.0</td>\n",
       "    </tr>\n",
       "    <tr>\n",
       "      <th>3</th>\n",
       "      <td>2011</td>\n",
       "      <td>10.0</td>\n",
       "      <td>1</td>\n",
       "      <td>49200</td>\n",
       "      <td>1</td>\n",
       "      <td>10000</td>\n",
       "      <td>1</td>\n",
       "      <td>1</td>\n",
       "      <td>4</td>\n",
       "      <td>2</td>\n",
       "      <td>0</td>\n",
       "      <td>13.49</td>\n",
       "      <td>3</td>\n",
       "      <td>20.00</td>\n",
       "      <td>12226.302210</td>\n",
       "      <td>10000.00</td>\n",
       "      <td>0.00</td>\n",
       "      <td>339.31</td>\n",
       "      <td>2015</td>\n",
       "      <td>2.0</td>\n",
       "    </tr>\n",
       "    <tr>\n",
       "      <th>4</th>\n",
       "      <td>2011</td>\n",
       "      <td>1.0</td>\n",
       "      <td>1</td>\n",
       "      <td>80000</td>\n",
       "      <td>1</td>\n",
       "      <td>3000</td>\n",
       "      <td>2</td>\n",
       "      <td>1</td>\n",
       "      <td>4</td>\n",
       "      <td>1</td>\n",
       "      <td>0</td>\n",
       "      <td>12.69</td>\n",
       "      <td>2</td>\n",
       "      <td>17.94</td>\n",
       "      <td>3242.170000</td>\n",
       "      <td>2233.10</td>\n",
       "      <td>0.00</td>\n",
       "      <td>67.79</td>\n",
       "      <td>2016</td>\n",
       "      <td>2.0</td>\n",
       "    </tr>\n",
       "  </tbody>\n",
       "</table>\n",
       "</div>"
      ],
      "text/plain": [
       "   year  emp_length_int  home_ownership_cat  annual_inc  income_cat  \\\n",
       "0  2011            10.0                   1       24000           1   \n",
       "1  2011             0.5                   1       30000           1   \n",
       "2  2011            10.0                   1       12252           1   \n",
       "3  2011            10.0                   1       49200           1   \n",
       "4  2011             1.0                   1       80000           1   \n",
       "\n",
       "   loan_amount  term_cat  application_type_cat  purpose_cat  \\\n",
       "0         5000         1                     1            1   \n",
       "1         2500         2                     1            2   \n",
       "2         2400         1                     1            3   \n",
       "3        10000         1                     1            4   \n",
       "4         3000         2                     1            4   \n",
       "\n",
       "   interest_payment_cat  loan_condition_cat  interest_rate  grade_cat    dti  \\\n",
       "0                     1                   0          10.65          2  27.65   \n",
       "1                     2                   1          15.27          3   1.00   \n",
       "2                     2                   0          15.96          3   8.72   \n",
       "3                     2                   0          13.49          3  20.00   \n",
       "4                     1                   0          12.69          2  17.94   \n",
       "\n",
       "    total_pymnt  total_rec_prncp  recoveries  installment  final_date  \\\n",
       "0   5861.071414          5000.00        0.00       162.87        2015   \n",
       "1   1008.710000           456.46      117.08        59.83        2013   \n",
       "2   3003.653644          2400.00        0.00        84.33        2014   \n",
       "3  12226.302210         10000.00        0.00       339.31        2015   \n",
       "4   3242.170000          2233.10        0.00        67.79        2016   \n",
       "\n",
       "   region_cat  \n",
       "0         4.0  \n",
       "1         1.0  \n",
       "2         3.0  \n",
       "3         2.0  \n",
       "4         2.0  "
      ]
     },
     "execution_count": 17,
     "metadata": {},
     "output_type": "execute_result"
    }
   ],
   "source": [
    "from pyspark.ml.feature import StringIndexer\n",
    "indexer = StringIndexer(inputCol=\"region\", outputCol=\"region_cat\")\n",
    "regionData = indexer.fit(final_date_int).transform(final_date_int).drop('region')\n",
    "\n",
    "regionData.limit(5).toPandas()"
   ]
  },
  {
   "cell_type": "code",
   "execution_count": 18,
   "id": "0062d917",
   "metadata": {},
   "outputs": [
    {
     "data": {
      "text/plain": [
       "121"
      ]
     },
     "execution_count": 18,
     "metadata": {},
     "output_type": "execute_result"
    }
   ],
   "source": [
    "del(final_date_int)\n",
    "gc.collect()"
   ]
  },
  {
   "cell_type": "markdown",
   "id": "da5020b6",
   "metadata": {},
   "source": [
    "### k means on the categorical features"
   ]
  },
  {
   "cell_type": "code",
   "execution_count": 19,
   "id": "256f8d12",
   "metadata": {
    "scrolled": true
   },
   "outputs": [
    {
     "name": "stdout",
     "output_type": "stream",
     "text": [
      "['home_ownership_cat', 'income_cat', 'term_cat', 'application_type_cat', 'purpose_cat', 'interest_payment_cat', 'loan_condition_cat', 'grade_cat', 'region_cat']\n"
     ]
    }
   ],
   "source": [
    "from pyspark.ml.clustering import KMeans\n",
    "from pyspark.ml.evaluation import ClusteringEvaluator\n",
    "from pyspark.ml.feature import VectorAssembler\n",
    "from pyspark.ml.evaluation import ClusteringEvaluator\n",
    "\n",
    "\n",
    "columns = [cols for cols in regionData.columns if 'cat' in cols ]\n",
    "print(columns)\n",
    "assembler = VectorAssembler().setInputCols(columns).setOutputCol(\"features\")\n",
    "\n",
    "features= assembler.transform(regionData)"
   ]
  },
  {
   "cell_type": "code",
   "execution_count": 20,
   "id": "08758fb3",
   "metadata": {},
   "outputs": [
    {
     "name": "stdout",
     "output_type": "stream",
     "text": [
      "+--------------------+\n",
      "|            features|\n",
      "+--------------------+\n",
      "|[1.0,1.0,1.0,1.0,...|\n",
      "|[1.0,1.0,2.0,1.0,...|\n",
      "|[1.0,1.0,1.0,1.0,...|\n",
      "|[1.0,1.0,1.0,1.0,...|\n",
      "|[1.0,1.0,2.0,1.0,...|\n",
      "+--------------------+\n",
      "only showing top 5 rows\n",
      "\n"
     ]
    }
   ],
   "source": [
    "features.select(\"features\").show(5)"
   ]
  },
  {
   "cell_type": "code",
   "execution_count": 21,
   "id": "c161793e",
   "metadata": {},
   "outputs": [],
   "source": [
    "###splitting the data into train and test"
   ]
  },
  {
   "cell_type": "code",
   "execution_count": 22,
   "id": "147aad3b",
   "metadata": {},
   "outputs": [],
   "source": [
    "train, test= features.select(\"features\").randomSplit(weights=[0.7, 0.3], seed=42)"
   ]
  },
  {
   "cell_type": "markdown",
   "id": "5cdfae58",
   "metadata": {},
   "source": [
    "Choosing The Number Of Clusters"
   ]
  },
  {
   "cell_type": "code",
   "execution_count": 55,
   "id": "662a190a",
   "metadata": {},
   "outputs": [
    {
     "name": "stderr",
     "output_type": "stream",
     "text": [
      "21/11/28 13:59:16 WARN MemoryStore: Not enough space to cache rdd_824_2 in memory! (computed 44.3 MiB so far)\n",
      "21/11/28 13:59:16 WARN BlockManager: Persisting block rdd_824_2 to disk instead.\n",
      "21/11/28 13:59:28 WARN MemoryStore: Not enough space to cache rdd_824_3 in memory! (computed 29.5 MiB so far)\n",
      "21/11/28 13:59:28 WARN BlockManager: Persisting block rdd_824_3 to disk instead.\n",
      "                                                                                \r"
     ]
    },
    {
     "name": "stdout",
     "output_type": "stream",
     "text": [
      "Training Cost 30602622.562184054\n"
     ]
    },
    {
     "name": "stderr",
     "output_type": "stream",
     "text": [
      "21/11/28 14:04:32 WARN MemoryStore: Not enough space to cache rdd_859_2 in memory! (computed 44.3 MiB so far)\n",
      "21/11/28 14:04:32 WARN BlockManager: Persisting block rdd_859_2 to disk instead.\n",
      "                                                                                \r"
     ]
    },
    {
     "name": "stdout",
     "output_type": "stream",
     "text": [
      "Training Cost 21915401.34540926\n"
     ]
    },
    {
     "name": "stderr",
     "output_type": "stream",
     "text": [
      "21/11/28 14:09:49 WARN MemoryStore: Not enough space to cache rdd_916_5 in memory! (computed 44.3 MiB so far)\n",
      "21/11/28 14:09:49 WARN BlockManager: Persisting block rdd_916_5 to disk instead.\n",
      "                                                                                \r"
     ]
    },
    {
     "name": "stdout",
     "output_type": "stream",
     "text": [
      "Training Cost 19315363.56206024\n"
     ]
    },
    {
     "name": "stderr",
     "output_type": "stream",
     "text": [
      "21/11/28 14:15:37 WARN MemoryStore: Not enough space to cache rdd_969_5 in memory! (computed 19.7 MiB so far)\n",
      "21/11/28 14:15:37 WARN BlockManager: Persisting block rdd_969_5 to disk instead.\n",
      "                                                                                \r"
     ]
    },
    {
     "name": "stdout",
     "output_type": "stream",
     "text": [
      "Training Cost 17093278.985239677\n"
     ]
    },
    {
     "name": "stderr",
     "output_type": "stream",
     "text": [
      "21/11/28 14:20:26 WARN MemoryStore: Not enough space to cache rdd_1036_2 in memory! (computed 44.3 MiB so far)\n",
      "21/11/28 14:20:26 WARN BlockManager: Persisting block rdd_1036_2 to disk instead.\n",
      "21/11/28 14:21:43 WARN MemoryStore: Not enough space to cache rdd_1036_5 in memory! (computed 44.3 MiB so far)\n",
      "21/11/28 14:21:43 WARN BlockManager: Persisting block rdd_1036_5 to disk instead.\n",
      "                                                                                \r"
     ]
    },
    {
     "name": "stdout",
     "output_type": "stream",
     "text": [
      "Training Cost 16414509.725514505\n"
     ]
    }
   ],
   "source": [
    "\n",
    "import numpy as np\n",
    "cost = np.zeros(7)\n",
    "for k in range(2,7):\n",
    "    kmeans = KMeans()\\\n",
    "            .setK(k)\\\n",
    "            .setSeed(1) \\\n",
    "            .setFeaturesCol(\"features\")\n",
    "\n",
    "    model = kmeans.fit(train)\n",
    "    \n",
    "\n",
    "    trainingCost = model.summary.trainingCost\n",
    "    print(\"Training Cost \" + str(trainingCost))\n",
    "    \n",
    "    cost[k] = trainingCost"
   ]
  },
  {
   "cell_type": "code",
   "execution_count": 56,
   "id": "e67d9bb0",
   "metadata": {},
   "outputs": [
    {
     "data": {
      "text/plain": [
       "array([30602622.56218405, 21915401.34540926, 19315363.56206024,\n",
       "       17093278.98523968, 16414509.72551451])"
      ]
     },
     "execution_count": 56,
     "metadata": {},
     "output_type": "execute_result"
    }
   ],
   "source": [
    "cost[2:]"
   ]
  },
  {
   "cell_type": "code",
   "execution_count": null,
   "id": "497882ac",
   "metadata": {},
   "outputs": [],
   "source": [
    "import numpy as np\n",
    "import matplotlib.mlab as mlab\n",
    "import matplotlib.pyplot as plt\n",
    "import seaborn as sbs\n",
    "from matplotlib.ticker import MaxNLocator\n",
    "\n",
    "fig, ax = plt.subplots(1,1, figsize =(8,6))\n",
    "ax.plot(range(2,7),cost[2:7])\n",
    "ax.set_xlabel('k')\n",
    "ax.set_ylabel('cost')\n",
    "ax.xaxis.set_major_locator(MaxNLocator(integer=True))\n",
    "plt.show()"
   ]
  },
  {
   "cell_type": "code",
   "execution_count": 23,
   "id": "224952c9",
   "metadata": {},
   "outputs": [
    {
     "name": "stderr",
     "output_type": "stream",
     "text": [
      "21/11/28 15:54:50 WARN MemoryStore: Not enough space to cache rdd_48_2 in memory! (computed 44.3 MiB so far)\n",
      "21/11/28 15:54:50 WARN BlockManager: Persisting block rdd_48_2 to disk instead.\n",
      "                                                                                \r"
     ]
    }
   ],
   "source": [
    "##setting the number of clusters to 3\n",
    "\n",
    "kmeans = KMeans().setK(3).setSeed(1).setFeaturesCol(\"features\")\n",
    "model = kmeans.fit(train)"
   ]
  },
  {
   "cell_type": "code",
   "execution_count": 24,
   "id": "44dbd120",
   "metadata": {},
   "outputs": [],
   "source": [
    "# Make predictions\n",
    "predictions = model.transform(test)"
   ]
  },
  {
   "cell_type": "code",
   "execution_count": 26,
   "id": "b0077a5b",
   "metadata": {},
   "outputs": [
    {
     "name": "stderr",
     "output_type": "stream",
     "text": [
      "\r",
      "[Stage 49:>                                                         (0 + 1) / 1]\r"
     ]
    },
    {
     "name": "stdout",
     "output_type": "stream",
     "text": [
      "+--------------------+----------+\n",
      "|            features|prediction|\n",
      "+--------------------+----------+\n",
      "|[1.0,1.0,1.0,1.0,...|         2|\n",
      "|[1.0,1.0,1.0,1.0,...|         2|\n",
      "|[1.0,1.0,1.0,1.0,...|         2|\n",
      "|[1.0,1.0,1.0,1.0,...|         2|\n",
      "|[1.0,1.0,1.0,1.0,...|         2|\n",
      "|[1.0,1.0,1.0,1.0,...|         2|\n",
      "|[1.0,1.0,1.0,1.0,...|         2|\n",
      "|[1.0,1.0,1.0,1.0,...|         2|\n",
      "|[1.0,1.0,1.0,1.0,...|         2|\n",
      "|[1.0,1.0,1.0,1.0,...|         2|\n",
      "|[1.0,1.0,1.0,1.0,...|         2|\n",
      "|[1.0,1.0,1.0,1.0,...|         2|\n",
      "|[1.0,1.0,1.0,1.0,...|         2|\n",
      "|[1.0,1.0,1.0,1.0,...|         2|\n",
      "|[1.0,1.0,1.0,1.0,...|         2|\n",
      "|[1.0,1.0,1.0,1.0,...|         2|\n",
      "|[1.0,1.0,1.0,1.0,...|         2|\n",
      "|[1.0,1.0,1.0,1.0,...|         2|\n",
      "|[1.0,1.0,1.0,1.0,...|         2|\n",
      "|[1.0,1.0,1.0,1.0,...|         2|\n",
      "+--------------------+----------+\n",
      "only showing top 20 rows\n",
      "\n"
     ]
    },
    {
     "name": "stderr",
     "output_type": "stream",
     "text": [
      "\r",
      "                                                                                \r"
     ]
    }
   ],
   "source": [
    "predictions.show()"
   ]
  },
  {
   "cell_type": "code",
   "execution_count": null,
   "id": "179b2b8a",
   "metadata": {},
   "outputs": [],
   "source": [
    "# Evaluate clustering by computing Silhouette score\n",
    "from pyspark.ml.evaluation import ClusteringEvaluator\n",
    "\n",
    "evaluator = ClusteringEvaluator()\n",
    "silhouette = evaluator.evaluate(predictions)\n",
    "print(\"Silhouette with squared euclidean distance = \" + str(silhouette))"
   ]
  },
  {
   "cell_type": "code",
   "execution_count": null,
   "id": "54ecb38f",
   "metadata": {},
   "outputs": [],
   "source": [
    "# Show up the centers.\n",
    "centers = model.clusterCenters()\n",
    "print(\"Cluster Centers: \\n\")\n",
    "i=1\n",
    "for center in centers:\n",
    "    print(f'center {i} : {center} \\n')\n",
    "    i +=1"
   ]
  },
  {
   "cell_type": "code",
   "execution_count": null,
   "id": "e6313de2",
   "metadata": {},
   "outputs": [],
   "source": []
  },
  {
   "cell_type": "code",
   "execution_count": null,
   "id": "0c1a4179",
   "metadata": {},
   "outputs": [],
   "source": [
    "clustering_features.limit(5).toPandas()"
   ]
  },
  {
   "cell_type": "code",
   "execution_count": 27,
   "id": "2caf6cf3",
   "metadata": {},
   "outputs": [
    {
     "data": {
      "text/plain": [
       "DataFrame[year: int, emp_length_int: double, home_ownership_cat: int, annual_inc: int, income_cat: int, loan_amount: int, term_cat: int, application_type_cat: int, purpose_cat: int, interest_payment_cat: int, loan_condition_cat: int, interest_rate: double, grade_cat: int, dti: double, total_pymnt: double, total_rec_prncp: double, recoveries: double, installment: double, final_date: int, region_cat: double, features: vector]"
      ]
     },
     "execution_count": 27,
     "metadata": {},
     "output_type": "execute_result"
    }
   ],
   "source": [
    "features"
   ]
  },
  {
   "cell_type": "code",
   "execution_count": null,
   "id": "8c993500",
   "metadata": {},
   "outputs": [],
   "source": []
  },
  {
   "cell_type": "markdown",
   "id": "286f1dca",
   "metadata": {},
   "source": [
    "### Linear Regression"
   ]
  },
  {
   "cell_type": "code",
   "execution_count": 28,
   "id": "93ef2b1f",
   "metadata": {},
   "outputs": [
    {
     "name": "stdout",
     "output_type": "stream",
     "text": [
      "['emp_length_int', 'home_ownership_cat', 'annual_inc', 'purpose_cat', 'dti', 'region_cat']\n"
     ]
    }
   ],
   "source": [
    "columns = ['emp_length_int', 'home_ownership_cat', 'annual_inc', 'purpose_cat', 'dti', 'region_cat']\n",
    "print(columns)\n",
    "assembler = VectorAssembler().setInputCols(columns).setOutputCol(\"features\")\n",
    "\n",
    "features= assembler.transform(regionData)"
   ]
  },
  {
   "cell_type": "code",
   "execution_count": 31,
   "id": "6e45a988",
   "metadata": {},
   "outputs": [
    {
     "name": "stdout",
     "output_type": "stream",
     "text": [
      "+--------------------+\n",
      "|            features|\n",
      "+--------------------+\n",
      "|[10.0,1.0,24000.0...|\n",
      "|[0.5,1.0,30000.0,...|\n",
      "|[10.0,1.0,12252.0...|\n",
      "|[10.0,1.0,49200.0...|\n",
      "|[1.0,1.0,80000.0,...|\n",
      "|[3.0,1.0,36000.0,...|\n",
      "|[8.0,1.0,47004.0,...|\n",
      "|[9.0,1.0,48000.0,...|\n",
      "|[4.0,2.0,40000.0,...|\n",
      "|[0.5,1.0,15000.0,...|\n",
      "|[5.0,2.0,72000.0,...|\n",
      "|[10.0,2.0,75000.0...|\n",
      "|[0.5,1.0,30000.0,...|\n",
      "|[3.0,1.0,15000.0,...|\n",
      "|[3.0,1.0,100000.0...|\n",
      "|[0.5,1.0,28000.0,...|\n",
      "|[4.0,1.0,42000.0,...|\n",
      "|[10.0,3.0,110000....|\n",
      "|[1.0,3.0,84000.0,...|\n",
      "|[6.0,1.0,77385.0,...|\n",
      "+--------------------+\n",
      "only showing top 20 rows\n",
      "\n"
     ]
    }
   ],
   "source": [
    "features.select('features').show()"
   ]
  },
  {
   "cell_type": "code",
   "execution_count": 35,
   "id": "b9fc022a",
   "metadata": {},
   "outputs": [],
   "source": [
    "from pyspark.ml.regression import LinearRegression\n",
    "from pyspark.ml.regression import DecisionTreeRegressor\n",
    "from pyspark.ml.tuning import CrossValidator, ParamGridBuilder\n",
    "from pyspark.ml.evaluation import RegressionEvaluator"
   ]
  },
  {
   "cell_type": "code",
   "execution_count": 36,
   "id": "7cb5d3f7",
   "metadata": {},
   "outputs": [],
   "source": [
    "data=features.select([\"features\", 'loan_amount'])\n",
    "\n",
    "data= data.withColumnRenamed('loan_amount', 'label')\n",
    "\n",
    "train, test= data.randomSplit(weights=[0.7, 0.3], seed=42)"
   ]
  },
  {
   "cell_type": "code",
   "execution_count": null,
   "id": "c9346b7d",
   "metadata": {},
   "outputs": [],
   "source": []
  },
  {
   "cell_type": "code",
   "execution_count": 38,
   "id": "b0d9300f",
   "metadata": {},
   "outputs": [],
   "source": [
    "model= DecisionTreeRegressor(featuresCol='features', labelCol='label')\n",
    "\n",
    "grid= ParamGridBuilder().addGrid(model.maxDepth,[10,20,30,40]).build()\n",
    "cv= CrossValidator(estimator=model, evaluator=RegressionEvaluator(), estimatorParamMaps=grid, numFolds=3)\n"
   ]
  },
  {
   "cell_type": "code",
   "execution_count": null,
   "id": "5f5a0e2e",
   "metadata": {},
   "outputs": [
    {
     "name": "stderr",
     "output_type": "stream",
     "text": [
      "21/11/28 16:24:40 WARN NettyRpcEnv: Ignored failure: java.util.concurrent.TimeoutException: Cannot receive any reply from 192.168.43.108:39647 in 10000 milliseconds\n",
      "21/11/28 16:26:40 WARN DAGScheduler: Broadcasting large task binary with size 1145.3 KiB\n",
      "21/11/28 16:26:46 WARN DAGScheduler: Broadcasting large task binary with size 2.0 MiB\n",
      "21/11/28 16:26:53 WARN DAGScheduler: Broadcasting large task binary with size 3.6 MiB\n",
      "21/11/28 16:27:06 WARN DAGScheduler: Broadcasting large task binary with size 6.2 MiB\n",
      "21/11/28 16:27:20 WARN DAGScheduler: Broadcasting large task binary with size 1549.6 KiB\n",
      "21/11/28 16:28:39 WARN DAGScheduler: Broadcasting large task binary with size 10.3 MiB\n",
      "[Stage 113:======================================>                  (4 + 2) / 6]\r"
     ]
    }
   ],
   "source": [
    "cv=cv.fit(train)"
   ]
  },
  {
   "cell_type": "code",
   "execution_count": null,
   "id": "cd243630",
   "metadata": {},
   "outputs": [],
   "source": [
    "plt.plot([0.0001,0.001,0.01,0.1], cv.avgMetrics)\n",
    "plt.xlabel('regularization parameter')\n",
    "plt.ylabel('MSE')"
   ]
  },
  {
   "cell_type": "code",
   "execution_count": 49,
   "id": "341039da",
   "metadata": {},
   "outputs": [
    {
     "name": "stderr",
     "output_type": "stream",
     "text": [
      "                                                                                \r"
     ]
    }
   ],
   "source": [
    "pred=cv.bestModel.evaluate(test)"
   ]
  },
  {
   "cell_type": "code",
   "execution_count": 53,
   "id": "fa9e5524",
   "metadata": {},
   "outputs": [
    {
     "name": "stdout",
     "output_type": "stream",
     "text": [
      "model coefficients: \n",
      "[71.27593720505661,165.1301689139723,9892.385911686355,3870.048362512404,-77.50899926922554,-187.08707509970984,-882.695564846995,-196.69262564676035,-36.042433077472815]\n",
      "\n",
      "model intercept:\n",
      "-2383.2991965715246\n"
     ]
    }
   ],
   "source": [
    "print(f'model coefficients: \\n{cv.bestModel.coefficients}\\n\\nmodel intercept:\\n{cv.bestModel.intercept}')"
   ]
  },
  {
   "cell_type": "code",
   "execution_count": null,
   "id": "4c284345",
   "metadata": {},
   "outputs": [],
   "source": [
    "### Prediction on the test\n",
    "pred= model.evaluate(test)"
   ]
  },
  {
   "cell_type": "code",
   "execution_count": 51,
   "id": "db130c62",
   "metadata": {},
   "outputs": [
    {
     "name": "stderr",
     "output_type": "stream",
     "text": [
      "\r",
      "[Stage 109:>                                                        (0 + 1) / 1]\r"
     ]
    },
    {
     "name": "stdout",
     "output_type": "stream",
     "text": [
      "+--------------------+-----+------------------+\n",
      "|            features|label|        prediction|\n",
      "+--------------------+-----+------------------+\n",
      "|[1.0,1.0,1.0,1.0,...| 1000|11154.252483730568|\n",
      "|[1.0,1.0,1.0,1.0,...| 1200|11154.252483730568|\n",
      "|[1.0,1.0,1.0,1.0,...| 1400|11154.252483730568|\n",
      "|[1.0,1.0,1.0,1.0,...| 1500|11154.252483730568|\n",
      "|[1.0,1.0,1.0,1.0,...| 1500|11154.252483730568|\n",
      "|[1.0,1.0,1.0,1.0,...| 1600|11154.252483730568|\n",
      "|[1.0,1.0,1.0,1.0,...| 1600|11154.252483730568|\n",
      "|[1.0,1.0,1.0,1.0,...| 1800|11154.252483730568|\n",
      "|[1.0,1.0,1.0,1.0,...| 1925|11154.252483730568|\n",
      "|[1.0,1.0,1.0,1.0,...| 2000|11154.252483730568|\n",
      "|[1.0,1.0,1.0,1.0,...| 2000|11154.252483730568|\n",
      "|[1.0,1.0,1.0,1.0,...| 2000|11154.252483730568|\n",
      "|[1.0,1.0,1.0,1.0,...| 2000|11154.252483730568|\n",
      "|[1.0,1.0,1.0,1.0,...| 2000|11154.252483730568|\n",
      "|[1.0,1.0,1.0,1.0,...| 2000|11154.252483730568|\n",
      "|[1.0,1.0,1.0,1.0,...| 2000|11154.252483730568|\n",
      "|[1.0,1.0,1.0,1.0,...| 2000|11154.252483730568|\n",
      "|[1.0,1.0,1.0,1.0,...| 2100|11154.252483730568|\n",
      "|[1.0,1.0,1.0,1.0,...| 2200|11154.252483730568|\n",
      "|[1.0,1.0,1.0,1.0,...| 2375|11154.252483730568|\n",
      "+--------------------+-----+------------------+\n",
      "only showing top 20 rows\n",
      "\n"
     ]
    },
    {
     "name": "stderr",
     "output_type": "stream",
     "text": [
      "\r",
      "                                                                                \r"
     ]
    }
   ],
   "source": [
    "pred.predictions.show()"
   ]
  },
  {
   "cell_type": "code",
   "execution_count": 54,
   "id": "0f2b9020",
   "metadata": {},
   "outputs": [
    {
     "name": "stdout",
     "output_type": "stream",
     "text": [
      "Mean Squared Error: 43050214.10995168\n",
      "Mean Absolute Error: 5262.867349441982\n",
      "R Squared: 0.1561349325749639\n"
     ]
    }
   ],
   "source": [
    "print(f'Mean Squared Error: {pred.meanSquaredError}\\nMean Absolute Error: {pred.meanAbsoluteError}\\nR Squared: {pred.r2}')"
   ]
  },
  {
   "cell_type": "code",
   "execution_count": null,
   "id": "9caf78ee",
   "metadata": {},
   "outputs": [],
   "source": []
  }
 ],
 "metadata": {
  "kernelspec": {
   "display_name": "Python 3 (ipykernel)",
   "language": "python",
   "name": "python3"
  },
  "language_info": {
   "codemirror_mode": {
    "name": "ipython",
    "version": 3
   },
   "file_extension": ".py",
   "mimetype": "text/x-python",
   "name": "python",
   "nbconvert_exporter": "python",
   "pygments_lexer": "ipython3",
   "version": "3.8.10"
  }
 },
 "nbformat": 4,
 "nbformat_minor": 5
}
